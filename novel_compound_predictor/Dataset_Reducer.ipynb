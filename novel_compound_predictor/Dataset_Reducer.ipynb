{
 "cells": [
  {
   "cell_type": "code",
   "execution_count": 1,
   "metadata": {},
   "outputs": [],
   "source": [
    "import pandas as pd"
   ]
  },
  {
   "cell_type": "markdown",
   "metadata": {},
   "source": [
    "## Reducing Heads"
   ]
  },
  {
   "cell_type": "code",
   "execution_count": 2,
   "metadata": {},
   "outputs": [
    {
     "name": "stdout",
     "output_type": "stream",
     "text": [
      "Change in Head shape -62.47\n",
      "<class 'pandas.core.frame.DataFrame'>\n",
      "MultiIndex: 33226515 entries, (a_n, a_a, 1800) to (zywicki_n, world_n, 1990)\n",
      "Data columns (total 1 columns):\n",
      "count    int64\n",
      "dtypes: int64(1)\n",
      "memory usage: 539.9+ MB\n"
     ]
    },
    {
     "data": {
      "text/html": [
       "<div>\n",
       "<style scoped>\n",
       "    .dataframe tbody tr th:only-of-type {\n",
       "        vertical-align: middle;\n",
       "    }\n",
       "\n",
       "    .dataframe tbody tr th {\n",
       "        vertical-align: top;\n",
       "    }\n",
       "\n",
       "    .dataframe thead th {\n",
       "        text-align: right;\n",
       "    }\n",
       "</style>\n",
       "<table border=\"1\" class=\"dataframe\">\n",
       "  <thead>\n",
       "    <tr style=\"text-align: right;\">\n",
       "      <th></th>\n",
       "      <th></th>\n",
       "      <th></th>\n",
       "      <th>count</th>\n",
       "    </tr>\n",
       "    <tr>\n",
       "      <th>head</th>\n",
       "      <th>context</th>\n",
       "      <th>decade</th>\n",
       "      <th></th>\n",
       "    </tr>\n",
       "  </thead>\n",
       "  <tbody>\n",
       "    <tr>\n",
       "      <th rowspan=\"5\" valign=\"top\">a_n</th>\n",
       "      <th rowspan=\"5\" valign=\"top\">a_a</th>\n",
       "      <th>1800</th>\n",
       "      <td>4</td>\n",
       "    </tr>\n",
       "    <tr>\n",
       "      <th>1810</th>\n",
       "      <td>20</td>\n",
       "    </tr>\n",
       "    <tr>\n",
       "      <th>1820</th>\n",
       "      <td>10</td>\n",
       "    </tr>\n",
       "    <tr>\n",
       "      <th>1830</th>\n",
       "      <td>14</td>\n",
       "    </tr>\n",
       "    <tr>\n",
       "      <th>1840</th>\n",
       "      <td>14</td>\n",
       "    </tr>\n",
       "  </tbody>\n",
       "</table>\n",
       "</div>"
      ],
      "text/plain": [
       "                     count\n",
       "head context decade       \n",
       "a_n  a_a     1800        4\n",
       "             1810       20\n",
       "             1820       10\n",
       "             1830       14\n",
       "             1840       14"
      ]
     },
     "execution_count": 2,
     "metadata": {},
     "output_type": "execute_result"
    }
   ],
   "source": [
    "heads=pd.read_csv('/data/dharp/compounding/datasets/heads.csv',sep='\\t')\n",
    "old_shape=heads.shape[0]\n",
    "heads=heads.groupby(['head','context','year'])['count'].sum().to_frame()\n",
    "new_shape=heads.shape[0]\n",
    "print(f'Change in Head shape {(new_shape-old_shape)/old_shape*100:.2f}')\n",
    "heads.info()\n",
    "heads.head()"
   ]
  },
  {
   "cell_type": "markdown",
   "metadata": {},
   "source": [
    "## Reducing Modifiers"
   ]
  },
  {
   "cell_type": "code",
   "execution_count": 3,
   "metadata": {},
   "outputs": [
    {
     "name": "stdout",
     "output_type": "stream",
     "text": [
      "Change in Modifier shape -61.99\n",
      "<class 'pandas.core.frame.DataFrame'>\n",
      "MultiIndex: 29756100 entries, (a_n, a_n, 1830) to (zzzz_n, security_n, 2000)\n",
      "Data columns (total 1 columns):\n",
      "count    int64\n",
      "dtypes: int64(1)\n",
      "memory usage: 483.5+ MB\n"
     ]
    },
    {
     "data": {
      "text/html": [
       "<div>\n",
       "<style scoped>\n",
       "    .dataframe tbody tr th:only-of-type {\n",
       "        vertical-align: middle;\n",
       "    }\n",
       "\n",
       "    .dataframe tbody tr th {\n",
       "        vertical-align: top;\n",
       "    }\n",
       "\n",
       "    .dataframe thead th {\n",
       "        text-align: right;\n",
       "    }\n",
       "</style>\n",
       "<table border=\"1\" class=\"dataframe\">\n",
       "  <thead>\n",
       "    <tr style=\"text-align: right;\">\n",
       "      <th></th>\n",
       "      <th></th>\n",
       "      <th></th>\n",
       "      <th>count</th>\n",
       "    </tr>\n",
       "    <tr>\n",
       "      <th>modifier</th>\n",
       "      <th>context</th>\n",
       "      <th>decade</th>\n",
       "      <th></th>\n",
       "    </tr>\n",
       "  </thead>\n",
       "  <tbody>\n",
       "    <tr>\n",
       "      <th rowspan=\"5\" valign=\"top\">a_n</th>\n",
       "      <th rowspan=\"5\" valign=\"top\">a_n</th>\n",
       "      <th>1830</th>\n",
       "      <td>1</td>\n",
       "    </tr>\n",
       "    <tr>\n",
       "      <th>1870</th>\n",
       "      <td>1</td>\n",
       "    </tr>\n",
       "    <tr>\n",
       "      <th>1880</th>\n",
       "      <td>3</td>\n",
       "    </tr>\n",
       "    <tr>\n",
       "      <th>1890</th>\n",
       "      <td>1</td>\n",
       "    </tr>\n",
       "    <tr>\n",
       "      <th>1900</th>\n",
       "      <td>1</td>\n",
       "    </tr>\n",
       "  </tbody>\n",
       "</table>\n",
       "</div>"
      ],
      "text/plain": [
       "                         count\n",
       "modifier context decade       \n",
       "a_n      a_n     1830        1\n",
       "                 1870        1\n",
       "                 1880        3\n",
       "                 1890        1\n",
       "                 1900        1"
      ]
     },
     "execution_count": 3,
     "metadata": {},
     "output_type": "execute_result"
    }
   ],
   "source": [
    "modifiers=pd.read_csv('/data/dharp/compounding/datasets/modifiers.csv',sep='\\t')\n",
    "old_shape=modifiers.shape[0]\n",
    "modifiers=modifiers.groupby(['modifier','context','year'])['count'].sum().to_frame()\n",
    "new_shape=modifiers.shape[0]\n",
    "print(f'Change in Modifier shape {(new_shape-old_shape)/old_shape*100:.2f}')\n",
    "modifiers.info()\n",
    "modifiers.head()"
   ]
  },
  {
   "cell_type": "markdown",
   "metadata": {},
   "source": [
    "## Reducing Compounds"
   ]
  },
  {
   "cell_type": "code",
   "execution_count": 4,
   "metadata": {},
   "outputs": [
    {
     "name": "stdout",
     "output_type": "stream",
     "text": [
      "Change in Compound shape -47.82\n",
      "<class 'pandas.core.frame.DataFrame'>\n",
      "MultiIndex: 60075611 entries, (a_n, aaaaa_n, a_n, 1870) to (zzzz_n, best_n, security_n, 2000)\n",
      "Data columns (total 1 columns):\n",
      "count    int64\n",
      "dtypes: int64(1)\n",
      "memory usage: 1.2+ GB\n"
     ]
    },
    {
     "data": {
      "text/html": [
       "<div>\n",
       "<style scoped>\n",
       "    .dataframe tbody tr th:only-of-type {\n",
       "        vertical-align: middle;\n",
       "    }\n",
       "\n",
       "    .dataframe tbody tr th {\n",
       "        vertical-align: top;\n",
       "    }\n",
       "\n",
       "    .dataframe thead th {\n",
       "        text-align: right;\n",
       "    }\n",
       "</style>\n",
       "<table border=\"1\" class=\"dataframe\">\n",
       "  <thead>\n",
       "    <tr style=\"text-align: right;\">\n",
       "      <th></th>\n",
       "      <th></th>\n",
       "      <th></th>\n",
       "      <th></th>\n",
       "      <th>count</th>\n",
       "    </tr>\n",
       "    <tr>\n",
       "      <th>modifier</th>\n",
       "      <th>head</th>\n",
       "      <th>context</th>\n",
       "      <th>decade</th>\n",
       "      <th></th>\n",
       "    </tr>\n",
       "  </thead>\n",
       "  <tbody>\n",
       "    <tr>\n",
       "      <th rowspan=\"5\" valign=\"top\">a_n</th>\n",
       "      <th rowspan=\"5\" valign=\"top\">aaaaa_n</th>\n",
       "      <th rowspan=\"5\" valign=\"top\">a_n</th>\n",
       "      <th>1870</th>\n",
       "      <td>1</td>\n",
       "    </tr>\n",
       "    <tr>\n",
       "      <th>1910</th>\n",
       "      <td>1</td>\n",
       "    </tr>\n",
       "    <tr>\n",
       "      <th>1920</th>\n",
       "      <td>3</td>\n",
       "    </tr>\n",
       "    <tr>\n",
       "      <th>1930</th>\n",
       "      <td>1</td>\n",
       "    </tr>\n",
       "    <tr>\n",
       "      <th>1940</th>\n",
       "      <td>1</td>\n",
       "    </tr>\n",
       "  </tbody>\n",
       "</table>\n",
       "</div>"
      ],
      "text/plain": [
       "                                 count\n",
       "modifier head    context decade       \n",
       "a_n      aaaaa_n a_n     1870        1\n",
       "                         1910        1\n",
       "                         1920        3\n",
       "                         1930        1\n",
       "                         1940        1"
      ]
     },
     "execution_count": 4,
     "metadata": {},
     "output_type": "execute_result"
    }
   ],
   "source": [
    "compounds=pd.read_csv('/data/dharp/compounding/datasets/compounds.csv',sep='\\t')\n",
    "old_shape=compounds.shape[0]\n",
    "compounds=compounds.groupby(['modifier','head','context','year'])['count'].sum().to_frame()\n",
    "new_shape=compounds.shape[0]\n",
    "print(f'Change in Compound shape {(new_shape-old_shape)/old_shape*100:.2f}')\n",
    "compounds.info()\n",
    "compounds.head()"
   ]
  },
  {
   "cell_type": "markdown",
   "metadata": {},
   "source": [
    "## Reducing Phrases"
   ]
  },
  {
   "cell_type": "code",
   "execution_count": 5,
   "metadata": {},
   "outputs": [
    {
     "name": "stdout",
     "output_type": "stream",
     "text": [
      "Change in Phrases shape -49.21\n",
      "<class 'pandas.core.frame.DataFrame'>\n",
      "MultiIndex: 67609736 entries, (----_n, x_n, x_n, 1920) to (zzzz_n, best_n, security_n, 2000)\n",
      "Data columns (total 1 columns):\n",
      "count    int64\n",
      "dtypes: int64(1)\n",
      "memory usage: 1.3+ GB\n"
     ]
    },
    {
     "data": {
      "text/html": [
       "<div>\n",
       "<style scoped>\n",
       "    .dataframe tbody tr th:only-of-type {\n",
       "        vertical-align: middle;\n",
       "    }\n",
       "\n",
       "    .dataframe tbody tr th {\n",
       "        vertical-align: top;\n",
       "    }\n",
       "\n",
       "    .dataframe thead th {\n",
       "        text-align: right;\n",
       "    }\n",
       "</style>\n",
       "<table border=\"1\" class=\"dataframe\">\n",
       "  <thead>\n",
       "    <tr style=\"text-align: right;\">\n",
       "      <th></th>\n",
       "      <th></th>\n",
       "      <th></th>\n",
       "      <th></th>\n",
       "      <th>count</th>\n",
       "    </tr>\n",
       "    <tr>\n",
       "      <th>modifier</th>\n",
       "      <th>head</th>\n",
       "      <th>context</th>\n",
       "      <th>decade</th>\n",
       "      <th></th>\n",
       "    </tr>\n",
       "  </thead>\n",
       "  <tbody>\n",
       "    <tr>\n",
       "      <th rowspan=\"5\" valign=\"top\">----_n</th>\n",
       "      <th rowspan=\"5\" valign=\"top\">x_n</th>\n",
       "      <th rowspan=\"5\" valign=\"top\">x_n</th>\n",
       "      <th>1920</th>\n",
       "      <td>3</td>\n",
       "    </tr>\n",
       "    <tr>\n",
       "      <th>1930</th>\n",
       "      <td>6</td>\n",
       "    </tr>\n",
       "    <tr>\n",
       "      <th>1940</th>\n",
       "      <td>36</td>\n",
       "    </tr>\n",
       "    <tr>\n",
       "      <th>1950</th>\n",
       "      <td>24</td>\n",
       "    </tr>\n",
       "    <tr>\n",
       "      <th>1960</th>\n",
       "      <td>57</td>\n",
       "    </tr>\n",
       "  </tbody>\n",
       "</table>\n",
       "</div>"
      ],
      "text/plain": [
       "                              count\n",
       "modifier head context decade       \n",
       "----_n   x_n  x_n     1920        3\n",
       "                      1930        6\n",
       "                      1940       36\n",
       "                      1950       24\n",
       "                      1960       57"
      ]
     },
     "execution_count": 5,
     "metadata": {},
     "output_type": "execute_result"
    }
   ],
   "source": [
    "phrases=pd.read_csv('/data/dharp/compounding/datasets/phrases.csv',sep='\\t')\n",
    "old_shape=phrases.shape[0]\n",
    "phrases=phrases.groupby(['modifier','head','context','year'])['count'].sum().to_frame()\n",
    "new_shape=phrases.shape[0]\n",
    "print(f'Change in Phrases shape {(new_shape-old_shape)/old_shape*100:.2f}')\n",
    "phrases.info()\n",
    "phrases.head()"
   ]
  },
  {
   "cell_type": "markdown",
   "metadata": {},
   "source": [
    "# Saving files"
   ]
  },
  {
   "cell_type": "code",
   "execution_count": 6,
   "metadata": {},
   "outputs": [],
   "source": [
    "heads.to_csv('/data/dharp/compounding/datasets/heads.csv',sep='\\t')"
   ]
  },
  {
   "cell_type": "code",
   "execution_count": 7,
   "metadata": {},
   "outputs": [],
   "source": [
    "modifiers.to_csv('/data/dharp/compounding/datasets/modifiers.csv',sep='\\t')"
   ]
  },
  {
   "cell_type": "code",
   "execution_count": 8,
   "metadata": {},
   "outputs": [],
   "source": [
    "compounds.to_csv('/data/dharp/compounding/datasets/compounds.csv',sep='\\t')"
   ]
  },
  {
   "cell_type": "code",
   "execution_count": 9,
   "metadata": {},
   "outputs": [],
   "source": [
    "phrases.to_csv('/data/dharp/compounding/datasets/phrases.csv',sep='\\t')"
   ]
  },
  {
   "cell_type": "markdown",
   "metadata": {},
   "source": [
    "## Reading in Words file"
   ]
  },
  {
   "cell_type": "code",
   "execution_count": null,
   "metadata": {},
   "outputs": [],
   "source": [
    "words=pd.read_csv('/data/dharp/compounding/datasets/words.csv',sep='\\t')\n",
    "old_shape=words.shape[0]\n",
    "words=words.groupby(['head','context','decade'])['count'].sum().to_frame()\n",
    "new_shape=words.shape[0]\n",
    "print(f'Change in Head shape {(new_shape-old_shape)/old_shape*100:.2f}')\n",
    "heads.info()\n",
    "heads.head()"
   ]
  }
 ],
 "metadata": {
  "kernelspec": {
   "display_name": "Python 3",
   "language": "python",
   "name": "python3"
  },
  "language_info": {
   "codemirror_mode": {
    "name": "ipython",
    "version": 3
   },
   "file_extension": ".py",
   "mimetype": "text/x-python",
   "name": "python",
   "nbconvert_exporter": "python",
   "pygments_lexer": "ipython3",
   "version": "3.6.8"
  }
 },
 "nbformat": 4,
 "nbformat_minor": 2
}
