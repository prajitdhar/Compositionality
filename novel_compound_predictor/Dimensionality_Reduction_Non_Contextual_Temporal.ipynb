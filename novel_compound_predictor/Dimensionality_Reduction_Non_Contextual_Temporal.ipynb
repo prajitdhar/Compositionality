{
 "cells": [
  {
   "cell_type": "code",
   "execution_count": 1,
   "metadata": {},
   "outputs": [],
   "source": [
    "import pandas as pd\n",
    "import numpy as np\n",
    "from sklearn.decomposition import PCA,TruncatedSVD,NMF\n",
    "from sklearn.preprocessing import Normalizer\n",
    "import matplotlib\n",
    "%matplotlib inline\n",
    "import matplotlib.pyplot as plt\n",
    "matplotlib.style.use('ggplot')\n",
    "pd.set_option('display.float_format', lambda x: '%.3f' % x)\n",
    "pd.options.mode.chained_assignment = None"
   ]
  },
  {
   "cell_type": "code",
   "execution_count": 2,
   "metadata": {},
   "outputs": [
    {
     "data": {
      "text/plain": [
       "(288777470,)"
      ]
     },
     "metadata": {},
     "output_type": "display_data"
    },
    {
     "data": {
      "text/plain": [
       "joiner  decade  context\n",
       "a_n     1800    a_a         15\n",
       "                a_n        128\n",
       "                aa_n        20\n",
       "                aaa_n       16\n",
       "                aaron_n      6\n",
       "Name: count, dtype: int64"
      ]
     },
     "execution_count": 2,
     "metadata": {},
     "output_type": "execute_result"
    }
   ],
   "source": [
    "constituents=pd.read_csv(\"/data/dharp/compounding/datasets/words.csv\")\n",
    "constituents.columns=['joiner','context','decade','count']\n",
    "constituents=constituents.query('decade != 2000')\n",
    "constituents=constituents.groupby(['joiner','decade','context'])['count'].sum()\n",
    "display(constituents.shape)\n",
    "constituents.head()"
   ]
  },
  {
   "cell_type": "code",
   "execution_count": 3,
   "metadata": {},
   "outputs": [
    {
     "data": {
      "text/plain": [
       "(58614268,)"
      ]
     },
     "metadata": {},
     "output_type": "display_data"
    },
    {
     "data": {
      "text/plain": [
       "joiner      decade  context\n",
       "----_n x_n  1920    x_n         3\n",
       "            1930    x_n         6\n",
       "            1940    x_n        36\n",
       "            1950    x_n        24\n",
       "            1960    x_n        57\n",
       "Name: count, dtype: int64"
      ]
     },
     "execution_count": 3,
     "metadata": {},
     "output_type": "execute_result"
    }
   ],
   "source": [
    "compounds=pd.read_csv(\"/data/dharp/compounding/datasets/phrases.csv\")\n",
    "compounds.columns=['modifier','head','context','decade','count']\n",
    "compounds=compounds.query('decade != 2000')\n",
    "compounds['joiner']=compounds['modifier']+\" \"+compounds['head']\n",
    "compounds=compounds.groupby(['joiner','decade','context'])['count'].sum()\n",
    "display(compounds.shape)\n",
    "compounds.head()"
   ]
  },
  {
   "cell_type": "code",
   "execution_count": 4,
   "metadata": {},
   "outputs": [],
   "source": [
    "df=pd.concat([constituents,compounds])"
   ]
  },
  {
   "cell_type": "code",
   "execution_count": null,
   "metadata": {},
   "outputs": [],
   "source": [
    "df=df.to_sparse()"
   ]
  },
  {
   "cell_type": "code",
   "execution_count": null,
   "metadata": {},
   "outputs": [],
   "source": [
    "df, rows, columns = df.to_coo(row_levels=['joiner','decade'],column_levels=['context'],sort_labels=False)"
   ]
  },
  {
   "cell_type": "code",
   "execution_count": null,
   "metadata": {},
   "outputs": [],
   "source": [
    "len(columns)"
   ]
  },
  {
   "cell_type": "code",
   "execution_count": null,
   "metadata": {},
   "outputs": [],
   "source": [
    "df_svd = TruncatedSVD(n_components=300, n_iter=10, random_state=1991)\n",
    "display(df_svd.fit(df).explained_variance_ratio_.sum())\n",
    "df_list=df_svd.fit(df).explained_variance_ratio_\n",
    "df_reduced = df_svd.fit_transform(df)\n",
    "df_reduced = Normalizer(copy=False).fit_transform(df_reduced)\n",
    "df_reduced=pd.DataFrame(df_reduced,index=rows)\n",
    "df_reduced.reset_index(inplace=True)\n",
    "df_reduced"
   ]
  },
  {
   "cell_type": "code",
   "execution_count": null,
   "metadata": {},
   "outputs": [],
   "source": [
    "df_reduced.index = pd.MultiIndex.from_tuples(df_reduced.index, names=['joiner', 'decade'])"
   ]
  },
  {
   "cell_type": "code",
   "execution_count": null,
   "metadata": {},
   "outputs": [],
   "source": [
    "pd.Series(co_occ_list).cumsum().plot(figsize=[15,15])"
   ]
  },
  {
   "cell_type": "code",
   "execution_count": 12,
   "metadata": {},
   "outputs": [],
   "source": [
    "co_occ_reduced.reset_index(inplace=True)"
   ]
  },
  {
   "cell_type": "code",
   "execution_count": 15,
   "metadata": {},
   "outputs": [],
   "source": [
    "heads=co_occ_reduced.loc[co_occ_reduced.constituent.str.endswith(r'_h')]\n",
    "heads['constituent']=heads['constituent'].str.replace(r'_h$', r'_n', regex=True)\n",
    "heads.to_csv('/data/dharp/compounding/datasets/heads_context_decadal_svd.csv',index=False,header=False,sep='\\t')"
   ]
  },
  {
   "cell_type": "code",
   "execution_count": 16,
   "metadata": {},
   "outputs": [],
   "source": [
    "modifiers=co_occ_reduced.loc[co_occ_reduced.constituent.str.endswith(r'_m')]\n",
    "modifiers['constituent']=modifiers['constituent'].str.replace(r'_m$', r'_n', regex=True)\n",
    "modifiers.to_csv('/data/dharp/compounding/datasets/modifiers_context_decadal_svd.csv',index=False,header=False,sep='\\t')"
   ]
  },
  {
   "cell_type": "code",
   "execution_count": null,
   "metadata": {},
   "outputs": [],
   "source": []
  }
 ],
 "metadata": {
  "kernelspec": {
   "display_name": "Python 3",
   "language": "python",
   "name": "python3"
  },
  "language_info": {
   "codemirror_mode": {
    "name": "ipython",
    "version": 3
   },
   "file_extension": ".py",
   "mimetype": "text/x-python",
   "name": "python",
   "nbconvert_exporter": "python",
   "pygments_lexer": "ipython3",
   "version": "3.6.8"
  }
 },
 "nbformat": 4,
 "nbformat_minor": 2
}
