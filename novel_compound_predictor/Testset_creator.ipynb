{
 "cells": [
  {
   "cell_type": "code",
   "execution_count": 1,
   "metadata": {},
   "outputs": [],
   "source": [
    "import numpy as np\n",
    "import pandas as pd\n",
    "import pickle as pkl\n",
    "pd.set_option('display.float_format', lambda x: '%.3f' % x)\n",
    "pd.options.mode.chained_assignment = None\n",
    "import random\n",
    "from multiprocessing import Pool\n",
    "seed_list=list(range(1,1000,100))"
   ]
  },
  {
   "cell_type": "code",
   "execution_count": 2,
   "metadata": {},
   "outputs": [],
   "source": [
    "total_compounds_list=pkl.load( open(\"/data/dharp/compounding/datasets/total_compounds_list.pkl\",'rb'))\n",
    "novel_compounds_list = pkl.load( open( \"/data/dharp/compounding/datasets/novel_compounds_list.pkl\", \"rb\" ) )\n",
    "modifiers, heads = zip(*novel_compounds_list)\n",
    "heads_list=list(set(heads))\n",
    "modifiers_list=list(set(modifiers))"
   ]
  },
  {
   "cell_type": "markdown",
   "metadata": {},
   "source": [
    "## Creation of Negative Classes - CorruptHead and CorruptModifier\n"
   ]
  },
  {
   "cell_type": "code",
   "execution_count": 4,
   "metadata": {},
   "outputs": [],
   "source": [
    "def corrupt_dataset_creator(choice):\n",
    "    random.seed(choice)\n",
    "    corrupt_modifier_list=[]\n",
    "    corrupt_head_list=[]\n",
    "    for cur_num,(modifier,head) in enumerate(novel_compounds_list):\n",
    "    # CorruptHead , Modifier is same\n",
    "    #print(modifier,head)\n",
    "\n",
    "        while True:\n",
    "            temp_corrupt_head=random.choice(heads_list)\n",
    "            if (modifier,temp_corrupt_head) not in novel_compounds_list:\n",
    "                if (modifier,temp_corrupt_head) not in total_compounds_list:\n",
    "                    corrupt_head_list.append((modifier,temp_corrupt_head))\n",
    "                    break\n",
    "    # CorruptModifier , Head is same\n",
    "        while True:\n",
    "            temp_corrupt_modifier=random.choice(modifiers_list)\n",
    "            if (temp_corrupt_modifier,head) not in novel_compounds_list:\n",
    "                if (temp_corrupt_modifier,head) not in total_compounds_list:\n",
    "                    corrupt_modifier_list.append((temp_corrupt_modifier,head))\n",
    "                    break\n",
    "    return corrupt_head_list,corrupt_modifier_list"
   ]
  },
  {
   "cell_type": "code",
   "execution_count": 5,
   "metadata": {},
   "outputs": [],
   "source": [
    "pool = Pool(10)\n",
    "results=pool.map(corrupt_dataset_creator,seed_list)"
   ]
  },
  {
   "cell_type": "code",
   "execution_count": 6,
   "metadata": {},
   "outputs": [
    {
     "data": {
      "text/plain": [
       "10"
      ]
     },
     "execution_count": 6,
     "metadata": {},
     "output_type": "execute_result"
    }
   ],
   "source": [
    "len(results)"
   ]
  },
  {
   "cell_type": "code",
   "execution_count": 9,
   "metadata": {},
   "outputs": [
    {
     "name": "stdout",
     "output_type": "stream",
     "text": [
      "1\n",
      "2\n",
      "3\n",
      "4\n",
      "5\n",
      "6\n",
      "7\n",
      "8\n",
      "9\n",
      "10\n"
     ]
    }
   ],
   "source": [
    "for num,(corrupt_heads,corrupt_modifiers) in enumerate(results):\n",
    "    print(num+1)\n",
    "    pkl.dump( corrupt_heads, open( '/data/dharp/compounding/datasets/corrupt_heads_'+str(num+1)+'.pkl', \"wb\" ) )\n",
    "    \n",
    "    pkl.dump( corrupt_modifiers, open( '/data/dharp/compounding/datasets/corrupt_modifiers_'+str(num+1)+'.pkl', \"wb\" ) )"
   ]
  },
  {
   "cell_type": "code",
   "execution_count": 7,
   "metadata": {},
   "outputs": [
    {
     "data": {
      "text/plain": [
       "[('conference_n', 'peaceful_n'),\n",
       " ('constant_n', 'robinson_n'),\n",
       " ('attorney_n', 'supply_n'),\n",
       " ('extinction_n', 'peaceful_n'),\n",
       " ('reel_n', 'standard_n'),\n",
       " ('supreme_n', 'award_n'),\n",
       " ('switch_n', 'joint_n'),\n",
       " ('shoots_n', 'companion_n'),\n",
       " ('tuning_n', 'foundation_n'),\n",
       " ('familial_n', 'gentleman_n'),\n",
       " ('nothing_n', 'boat_n'),\n",
       " ('diasporic_n', 'pay_n'),\n",
       " ('scots_n', 'wife_n'),\n",
       " ('snap_n', 'othello_n'),\n",
       " ('snail_n', 'sage_n'),\n",
       " ('locality_n', 'robinson_n'),\n",
       " ('theme_n', 'evidence_n'),\n",
       " ('vermont_n', 'association_n'),\n",
       " ('advocacy_n', 'crane_n'),\n",
       " ('aol_n', 'chase_n')]"
      ]
     },
     "execution_count": 7,
     "metadata": {},
     "output_type": "execute_result"
    }
   ],
   "source": [
    "results[1][1][:20]"
   ]
  },
  {
   "cell_type": "code",
   "execution_count": 8,
   "metadata": {},
   "outputs": [
    {
     "data": {
      "text/plain": [
       "[('a_n', 'subtests_n'),\n",
       " ('a_n', 'ma_n'),\n",
       " ('a_n', 'upset_n'),\n",
       " ('india_n', 'denise_n'),\n",
       " ('india_n', 'governing_n'),\n",
       " ('india_n', 'knot_n'),\n",
       " ('india_n', 'managerial_n'),\n",
       " ('india_n', 'faith_n'),\n",
       " ('india_n', 'clause_n'),\n",
       " ('india_n', 'afield_n'),\n",
       " ('india_n', 'giles_n'),\n",
       " ('india_n', 'astrocyte_n'),\n",
       " ('india_n', 'eric_n'),\n",
       " ('india_n', 'reel_n'),\n",
       " ('india_n', 'bone_n'),\n",
       " ('the_n', 'will_n'),\n",
       " ('the_n', 'kiln_n'),\n",
       " ('the_n', 'palestine_n'),\n",
       " ('the_n', 'winner_n'),\n",
       " ('the_n', 'america_n')]"
      ]
     },
     "execution_count": 8,
     "metadata": {},
     "output_type": "execute_result"
    }
   ],
   "source": [
    "results[1][0][:20]"
   ]
  },
  {
   "cell_type": "code",
   "execution_count": null,
   "metadata": {},
   "outputs": [],
   "source": []
  }
 ],
 "metadata": {
  "kernelspec": {
   "display_name": "Python 3",
   "language": "python",
   "name": "python3"
  },
  "language_info": {
   "codemirror_mode": {
    "name": "ipython",
    "version": 3
   },
   "file_extension": ".py",
   "mimetype": "text/x-python",
   "name": "python",
   "nbconvert_exporter": "python",
   "pygments_lexer": "ipython3",
   "version": "3.6.8"
  }
 },
 "nbformat": 4,
 "nbformat_minor": 2
}
