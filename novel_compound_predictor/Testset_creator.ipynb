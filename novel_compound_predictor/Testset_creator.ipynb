{
 "cells": [
  {
   "cell_type": "code",
   "execution_count": 1,
   "metadata": {},
   "outputs": [],
   "source": [
    "import numpy as np\n",
    "import pandas as pd\n",
    "import pickle as pkl\n",
    "pd.set_option('display.float_format', lambda x: '%.3f' % x)\n",
    "pd.options.mode.chained_assignment = None\n",
    "import random\n",
    "from multiprocessing import Pool\n",
    "seed_list=list(range(1,1000,100))"
   ]
  },
  {
   "cell_type": "code",
   "execution_count": 3,
   "metadata": {},
   "outputs": [],
   "source": [
    "total_compounds_list=pkl.load( open(\"/data/dharp/compounding/datasets/total_compounds_list.pkl\",'rb'))\n",
    "novel_compounds_list = pkl.load( open( \"/data/dharp/compounding/datasets/novel_compounds_list.pkl\", \"rb\" ) )\n",
    "modifiers, heads = zip(*novel_compounds_list)\n",
    "heads_list=list(set(heads))\n",
    "modifiers_list=list(set(modifiers))"
   ]
  },
  {
   "cell_type": "markdown",
   "metadata": {},
   "source": [
    "## Creation of Negative Classes - CorruptHead and CorruptModifier\n"
   ]
  },
  {
   "cell_type": "code",
   "execution_count": 4,
   "metadata": {},
   "outputs": [],
   "source": [
    "def corrupt_dataset_creator(choice):\n",
    "    random.seed(choice)\n",
    "    corrupt_modifier_list=[]\n",
    "    corrupt_head_list=[]\n",
    "    for cur_num,(modifier,head) in enumerate(novel_compounds_list):\n",
    "    # CorruptHead , Modifier is same\n",
    "    #print(modifier,head)\n",
    "\n",
    "        while True:\n",
    "            temp_corrupt_head=random.choice(heads_list)\n",
    "            if (modifier,temp_corrupt_head) not in novel_compounds_list:\n",
    "                if (modifier,temp_corrupt_head) not in total_compounds_list:\n",
    "                    corrupt_head_list.append((modifier,temp_corrupt_head))\n",
    "                    break\n",
    "    # CorruptModifier , Head is same\n",
    "        while True:\n",
    "            temp_corrupt_modifier=random.choice(modifiers_list)\n",
    "            if (temp_corrupt_modifier,head) not in novel_compounds_list:\n",
    "                if (temp_corrupt_modifier,head) not in total_compounds_list:\n",
    "                    corrupt_modifier_list.append((temp_corrupt_modifier,head))\n",
    "                    break\n",
    "    return corrupt_head_list,corrupt_modifier_list"
   ]
  },
  {
   "cell_type": "code",
   "execution_count": 5,
   "metadata": {},
   "outputs": [],
   "source": [
    "pool = Pool(10)\n",
    "results=pool.map(corrupt_dataset_creator,seed_list)"
   ]
  },
  {
   "cell_type": "code",
   "execution_count": 7,
   "metadata": {},
   "outputs": [
    {
     "data": {
      "text/plain": [
       "10"
      ]
     },
     "execution_count": 7,
     "metadata": {},
     "output_type": "execute_result"
    }
   ],
   "source": [
    "len(results)"
   ]
  },
  {
   "cell_type": "code",
   "execution_count": 21,
   "metadata": {},
   "outputs": [
    {
     "name": "stdout",
     "output_type": "stream",
     "text": [
      "1\n",
      "2\n",
      "3\n",
      "4\n",
      "5\n",
      "6\n",
      "7\n",
      "8\n",
      "9\n",
      "10\n"
     ]
    }
   ],
   "source": [
    "for num,(corrupt_heads,corrupt_modifiers) in enumerate(results):\n",
    "    print(num+1)\n",
    "    pkl.dump( corrupt_heads, open( '/data/dharp/compounding/datasets/corrupt_heads_'+str(num+1)+'.pkl', \"wb\" ) )\n",
    "    \n",
    "    pkl.dump( corrupt_modifiers, open( '/data/dharp/compounding/datasets/corrupt_modifiers_'+str(num+1)+'.pkl', \"wb\" ) )"
   ]
  },
  {
   "cell_type": "code",
   "execution_count": 16,
   "metadata": {},
   "outputs": [
    {
     "data": {
      "text/plain": [
       "[('leukemia_n', 'peaceful_n'),\n",
       " ('wartime_n', 'robinson_n'),\n",
       " ('fiduciary_n', 'supply_n'),\n",
       " ('polymerization_n', 'peaceful_n'),\n",
       " ('tasmanian_n', 'standard_n'),\n",
       " ('affective_n', 'award_n'),\n",
       " ('yards_n', 'joint_n'),\n",
       " ('daubert_n', 'companion_n'),\n",
       " ('wages_n', 'foundation_n'),\n",
       " ('archetype_n', 'gentleman_n'),\n",
       " ('weekly_n', 'boat_n'),\n",
       " ('minoan_n', 'pay_n'),\n",
       " ('parenchymal_n', 'wife_n'),\n",
       " ('vegetarian_n', 'othello_n'),\n",
       " ('setup_n', 'sage_n'),\n",
       " ('side_n', 'robinson_n'),\n",
       " ('nothing_n', 'evidence_n'),\n",
       " ('smoke_n', 'association_n'),\n",
       " ('computer_n', 'crane_n'),\n",
       " ('shifts_n', 'chase_n')]"
      ]
     },
     "execution_count": 16,
     "metadata": {},
     "output_type": "execute_result"
    }
   ],
   "source": [
    "results[1][1][:20]"
   ]
  },
  {
   "cell_type": "code",
   "execution_count": 17,
   "metadata": {},
   "outputs": [
    {
     "data": {
      "text/plain": [
       "[('a_n', 'taxonomic_n'),\n",
       " ('a_n', 'merged_n'),\n",
       " ('a_n', 'o_n'),\n",
       " ('india_n', 'sweat_n'),\n",
       " ('india_n', 'router_n'),\n",
       " ('india_n', 'pan_n'),\n",
       " ('india_n', 'instance_n'),\n",
       " ('india_n', 'tarzan_n'),\n",
       " ('india_n', 'yell_n'),\n",
       " ('india_n', 'pulse_n'),\n",
       " ('india_n', 'prescribing_n'),\n",
       " ('india_n', 'inn_n'),\n",
       " ('india_n', 'externality_n'),\n",
       " ('india_n', 'rawls_n'),\n",
       " ('india_n', 'challenge_n'),\n",
       " ('the_n', 'billy_n'),\n",
       " ('the_n', 'morality_n'),\n",
       " ('the_n', 'terzky_n'),\n",
       " ('the_n', 'debacle_n'),\n",
       " ('the_n', 'ka_n')]"
      ]
     },
     "execution_count": 17,
     "metadata": {},
     "output_type": "execute_result"
    }
   ],
   "source": [
    "results[1][0][:20]"
   ]
  },
  {
   "cell_type": "code",
   "execution_count": null,
   "metadata": {},
   "outputs": [],
   "source": []
  }
 ],
 "metadata": {
  "kernelspec": {
   "display_name": "Python 3",
   "language": "python",
   "name": "python3"
  },
  "language_info": {
   "codemirror_mode": {
    "name": "ipython",
    "version": 3
   },
   "file_extension": ".py",
   "mimetype": "text/x-python",
   "name": "python",
   "nbconvert_exporter": "python",
   "pygments_lexer": "ipython3",
   "version": "3.6.7"
  }
 },
 "nbformat": 4,
 "nbformat_minor": 2
}
