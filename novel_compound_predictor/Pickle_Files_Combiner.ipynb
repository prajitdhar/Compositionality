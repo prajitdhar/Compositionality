{
 "cells": [
  {
   "cell_type": "code",
   "execution_count": 101,
   "metadata": {},
   "outputs": [],
   "source": [
    "import tables\n",
    "import pandas as pd\n",
    "import glob\n",
    "import os\n",
    "import numpy as np\n",
    "import pickle as pkl"
   ]
  },
  {
   "cell_type": "code",
   "execution_count": 43,
   "metadata": {},
   "outputs": [],
   "source": [
    "all_pkl_files=[]\n",
    "pkl_file_sizes=[]\n",
    "for filename in glob.glob('/data/dharp/compounding/pkl_datasets/*.pkl'):\n",
    "    pkl_file_sizes.append(os.path.getsize(filename))\n",
    "    all_pkl_files.append(filename)\n",
    "#df = pd.concat(dfs)"
   ]
  },
  {
   "cell_type": "code",
   "execution_count": 8,
   "metadata": {},
   "outputs": [
    {
     "data": {
      "text/plain": [
       "['/data/dharp/compounding/pkl_datasets/d_.pkl',\n",
       " '/data/dharp/compounding/pkl_datasets/uv.pkl',\n",
       " '/data/dharp/compounding/pkl_datasets/dn.pkl',\n",
       " '/data/dharp/compounding/pkl_datasets/wk.pkl',\n",
       " '/data/dharp/compounding/pkl_datasets/ra.pkl',\n",
       " '/data/dharp/compounding/pkl_datasets/fc.pkl',\n",
       " '/data/dharp/compounding/pkl_datasets/sx.pkl',\n",
       " '/data/dharp/compounding/pkl_datasets/vm.pkl',\n",
       " '/data/dharp/compounding/pkl_datasets/ou.pkl',\n",
       " '/data/dharp/compounding/pkl_datasets/wa.pkl']"
      ]
     },
     "execution_count": 8,
     "metadata": {},
     "output_type": "execute_result"
    }
   ],
   "source": [
    "pkl_files[:10]"
   ]
  },
  {
   "cell_type": "code",
   "execution_count": 11,
   "metadata": {},
   "outputs": [],
   "source": [
    "df_limit=np.sum(pkl_file_sizes)//10"
   ]
  },
  {
   "cell_type": "code",
   "execution_count": 90,
   "metadata": {},
   "outputs": [
    {
     "name": "stdout",
     "output_type": "stream",
     "text": [
      "/data/dharp/compounding/pkl_datasets/th.pkl\n"
     ]
    }
   ],
   "source": [
    "batched_pkl_files=[]\n",
    "remaining_pkl_files=all_pkl_files\n",
    "for f in remaining_pkl_files:\n",
    "    if os.path.getsize(f)>=df_limit:\n",
    "        print(f)\n",
    "        batched_pkl_files.append([f])\n",
    "        remaining_pkl_files=list(set(remaining_pkl_files)-set([f]))\n",
    "        \n",
    "        "
   ]
  },
  {
   "cell_type": "code",
   "execution_count": 91,
   "metadata": {},
   "outputs": [
    {
     "data": {
      "text/plain": [
       "1"
      ]
     },
     "execution_count": 91,
     "metadata": {},
     "output_type": "execute_result"
    }
   ],
   "source": [
    "len([f])"
   ]
  },
  {
   "cell_type": "code",
   "execution_count": 92,
   "metadata": {},
   "outputs": [
    {
     "ename": "KeyboardInterrupt",
     "evalue": "",
     "output_type": "error",
     "traceback": [
      "\u001b[0;31m---------------------------------------------------------------------------\u001b[0m",
      "\u001b[0;31mKeyboardInterrupt\u001b[0m                         Traceback (most recent call last)",
      "\u001b[0;32m<ipython-input-92-03c0ac324da6>\u001b[0m in \u001b[0;36m<module>\u001b[0;34m\u001b[0m\n\u001b[1;32m     17\u001b[0m                 \u001b[0;32mbreak\u001b[0m\u001b[0;34m\u001b[0m\u001b[0;34m\u001b[0m\u001b[0m\n\u001b[1;32m     18\u001b[0m             \u001b[0;32melse\u001b[0m\u001b[0;34m:\u001b[0m\u001b[0;34m\u001b[0m\u001b[0;34m\u001b[0m\u001b[0m\n\u001b[0;32m---> 19\u001b[0;31m                 \u001b[0mcurr_size\u001b[0m\u001b[0;34m+=\u001b[0m\u001b[0mos\u001b[0m\u001b[0;34m.\u001b[0m\u001b[0mpath\u001b[0m\u001b[0;34m.\u001b[0m\u001b[0mgetsize\u001b[0m\u001b[0;34m(\u001b[0m\u001b[0mfilename\u001b[0m\u001b[0;34m)\u001b[0m\u001b[0;34m\u001b[0m\u001b[0;34m\u001b[0m\u001b[0m\n\u001b[0m\u001b[1;32m     20\u001b[0m                 \u001b[0mcurr_pkl_list\u001b[0m\u001b[0;34m.\u001b[0m\u001b[0mappend\u001b[0m\u001b[0;34m(\u001b[0m\u001b[0mfilename\u001b[0m\u001b[0;34m)\u001b[0m\u001b[0;34m\u001b[0m\u001b[0;34m\u001b[0m\u001b[0m\n\u001b[1;32m     21\u001b[0m \u001b[0;34m\u001b[0m\u001b[0m\n",
      "\u001b[0;32m/data/dharp/packages/miniconda3/lib/python3.6/genericpath.py\u001b[0m in \u001b[0;36mgetsize\u001b[0;34m(filename)\u001b[0m\n\u001b[1;32m     48\u001b[0m \u001b[0;32mdef\u001b[0m \u001b[0mgetsize\u001b[0m\u001b[0;34m(\u001b[0m\u001b[0mfilename\u001b[0m\u001b[0;34m)\u001b[0m\u001b[0;34m:\u001b[0m\u001b[0;34m\u001b[0m\u001b[0;34m\u001b[0m\u001b[0m\n\u001b[1;32m     49\u001b[0m     \u001b[0;34m\"\"\"Return the size of a file, reported by os.stat().\"\"\"\u001b[0m\u001b[0;34m\u001b[0m\u001b[0;34m\u001b[0m\u001b[0m\n\u001b[0;32m---> 50\u001b[0;31m     \u001b[0;32mreturn\u001b[0m \u001b[0mos\u001b[0m\u001b[0;34m.\u001b[0m\u001b[0mstat\u001b[0m\u001b[0;34m(\u001b[0m\u001b[0mfilename\u001b[0m\u001b[0;34m)\u001b[0m\u001b[0;34m.\u001b[0m\u001b[0mst_size\u001b[0m\u001b[0;34m\u001b[0m\u001b[0;34m\u001b[0m\u001b[0m\n\u001b[0m\u001b[1;32m     51\u001b[0m \u001b[0;34m\u001b[0m\u001b[0m\n\u001b[1;32m     52\u001b[0m \u001b[0;34m\u001b[0m\u001b[0m\n",
      "\u001b[0;31mKeyboardInterrupt\u001b[0m: "
     ]
    }
   ],
   "source": [
    "\n",
    "pkl_file_count=0\n",
    "\n",
    "total_pkl_file_count=len(remaining_pkl_files)\n",
    "while pkl_file_count!=len(remaining_pkl_files):\n",
    "    curr_pkl_list=[]\n",
    "    curr_size=0\n",
    "    for filename in remaining_pkl_files:\n",
    "        #print(filename)\n",
    "        if curr_size<=df_limit:\n",
    "            if (len(curr_pkl_list)+pkl_file_count)==total_pkl_file_count:\n",
    "                batched_pkl_files.append(curr_pkl_list)\n",
    "                pkl_file_count+=len(curr_pkl_list)\n",
    "            #print(all_pkl_files)\n",
    "                remaining_pkl_files=list(set(remaining_pkl_files)-set(curr_pkl_list))\n",
    "            \n",
    "                break\n",
    "            else:\n",
    "                curr_size+=os.path.getsize(filename)\n",
    "                curr_pkl_list.append(filename)\n",
    "            \n",
    "        else:\n",
    "            batched_pkl_files.append(curr_pkl_list)\n",
    "            pkl_file_count+=len(curr_pkl_list)\n",
    "            #print(all_pkl_files)\n",
    "            remaining_pkl_files=list(set(remaining_pkl_files)-set(curr_pkl_list))\n",
    "            \n",
    "            break"
   ]
  },
  {
   "cell_type": "code",
   "execution_count": 99,
   "metadata": {},
   "outputs": [],
   "source": [
    "batched_pkl_files.append(remaining_pkl_files)"
   ]
  },
  {
   "cell_type": "code",
   "execution_count": 102,
   "metadata": {},
   "outputs": [],
   "source": [
    "pkl.dump(batched_pkl_files,open( \"batched_pkl_files.pkl\", \"wb\" ))"
   ]
  }
 ],
 "metadata": {
  "kernelspec": {
   "display_name": "Python 3",
   "language": "python",
   "name": "python3"
  },
  "language_info": {
   "codemirror_mode": {
    "name": "ipython",
    "version": 3
   },
   "file_extension": ".py",
   "mimetype": "text/x-python",
   "name": "python",
   "nbconvert_exporter": "python",
   "pygments_lexer": "ipython3",
   "version": "3.6.8"
  }
 },
 "nbformat": 4,
 "nbformat_minor": 2
}
