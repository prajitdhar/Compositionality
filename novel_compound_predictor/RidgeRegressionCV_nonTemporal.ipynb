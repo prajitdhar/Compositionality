{
 "cells": [
  {
   "cell_type": "code",
   "execution_count": 1,
   "metadata": {},
   "outputs": [
    {
     "name": "stderr",
     "output_type": "stream",
     "text": [
      "-- Attaching packages --------------------------------------- tidyverse 1.2.1 --\n",
      "<U+221A> ggplot2 3.0.0     <U+221A> purrr   0.2.5\n",
      "<U+221A> tibble  1.4.2     <U+221A> dplyr   0.7.6\n",
      "<U+221A> tidyr   0.8.1     <U+221A> stringr 1.3.1\n",
      "<U+221A> readr   1.1.1     <U+221A> forcats 0.3.0\n",
      "-- Conflicts ------------------------------------------ tidyverse_conflicts() --\n",
      "x dplyr::filter() masks stats::filter()\n",
      "x dplyr::lag()    masks stats::lag()\n",
      "Loading required package: lattice\n",
      "\n",
      "Attaching package: 'caret'\n",
      "\n",
      "The following object is masked from 'package:purrr':\n",
      "\n",
      "    lift\n",
      "\n",
      "Loading required package: Matrix\n",
      "\n",
      "Attaching package: 'Matrix'\n",
      "\n",
      "The following object is masked from 'package:tidyr':\n",
      "\n",
      "    expand\n",
      "\n",
      "Loading required package: foreach\n",
      "\n",
      "Attaching package: 'foreach'\n",
      "\n",
      "The following objects are masked from 'package:purrr':\n",
      "\n",
      "    accumulate, when\n",
      "\n",
      "Loaded glmnet 2.0-16\n",
      "\n"
     ]
    },
    {
     "ename": "ERROR",
     "evalue": "Error in library(psych): there is no package called 'psych'\n",
     "execution_count": 1,
     "output_type": "error",
     "traceback": [
      "Error in library(psych): there is no package called 'psych'\nTraceback:\n",
      "1. library(psych)",
      "2. stop(txt, domain = NA)"
     ]
    }
   ],
   "source": [
    "library(tidyverse)\n",
    "library(caret)\n",
    "library(glmnet)\n",
    "library(dplyr)\n",
    "library(psych) \n",
    "set.seed(1991)"
   ]
  },
  {
   "cell_type": "code",
   "execution_count": null,
   "metadata": {},
   "outputs": [],
   "source": [
    "CompoundAware_DecadeAware<-read.csv('CompoundAware_DecadeAware.csv',sep = '\\t')"
   ]
  },
  {
   "cell_type": "code",
   "execution_count": null,
   "metadata": {},
   "outputs": [],
   "source": [
    "Y <- CompoundAware_DecadeAware %>% select(compound_mean) %>% scale(center = TRUE, scale = FALSE) %>% as.double()\n",
    "X <- CompoundAware_DecadeAware %>% select(-c(1:8)) %>% as.matrix()"
   ]
  },
  {
   "cell_type": "code",
   "execution_count": null,
   "metadata": {},
   "outputs": [],
   "source": [
    "lambdas_to_try <- 10^seq(-3, 5, length.out = 100)\n",
    "# Setting alpha = 0 implements ridge regression\n",
    "ridge_cv <- cv.glmnet(X, Y, alpha = 0, lambda = lambdas_to_try,\n",
    "                      standardize = TRUE, nfolds = 10)\n",
    "# Plot cross-validation results\n",
    "plot(ridge_cv)"
   ]
  },
  {
   "cell_type": "code",
   "execution_count": null,
   "metadata": {},
   "outputs": [],
   "source": [
    "lambdas_to_try <- 10^seq(-3, 5, length.out = 100)\n",
    "# Setting alpha = 1 implements lasso regression\n",
    "lasso_cv <- cv.glmnet(X, Y, alpha = 1, lambda = lambdas_to_try,\n",
    "                      standardize = TRUE, nfolds = 10)\n",
    "# Plot cross-validation results\n",
    "plot(lasso_cv)"
   ]
  }
 ],
 "metadata": {
  "kernelspec": {
   "display_name": "R",
   "language": "R",
   "name": "ir"
  },
  "language_info": {
   "codemirror_mode": "r",
   "file_extension": ".r",
   "mimetype": "text/x-r-source",
   "name": "R",
   "pygments_lexer": "r",
   "version": "3.5.1"
  }
 },
 "nbformat": 4,
 "nbformat_minor": 2
}
