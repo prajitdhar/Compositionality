{
 "cells": [
  {
   "cell_type": "code",
   "execution_count": 1,
   "metadata": {},
   "outputs": [],
   "source": [
    "import pandas as pd\n",
    "import numpy as np\n",
    "from sklearn.decomposition import PCA,TruncatedSVD,NMF\n",
    "from sklearn.preprocessing import Normalizer\n",
    "import matplotlib\n",
    "%matplotlib inline\n",
    "import matplotlib.pyplot as plt\n",
    "matplotlib.style.use('ggplot')\n",
    "pd.set_option('display.float_format', lambda x: '%.3f' % x)\n",
    "pd.options.mode.chained_assignment = None"
   ]
  },
  {
   "cell_type": "code",
   "execution_count": 2,
   "metadata": {},
   "outputs": [
    {
     "data": {
      "text/plain": [
       "(27727848,)"
      ]
     },
     "metadata": {},
     "output_type": "display_data"
    },
    {
     "data": {
      "text/plain": [
       "joiner  decade  context \n",
       "a_h     1800    a_a          4\n",
       "                a_n         16\n",
       "                aa_n         4\n",
       "                act_v        2\n",
       "                almost_r     3\n",
       "Name: count, dtype: int64"
      ]
     },
     "execution_count": 2,
     "metadata": {},
     "output_type": "execute_result"
    }
   ],
   "source": [
    "heads=pd.read_csv(\"/data/dharp/compounding/datasets/heads_reduced.csv\",sep=\"\\t\")\n",
    "heads=heads.query('decade != 2000')\n",
    "heads.columns=['joiner','decade','context','count']\n",
    "heads['joiner']=heads['joiner'].str.replace(r'_n$', r'_h', regex=True)\n",
    "heads=heads.groupby(['joiner','decade','context'])['count'].sum()\n",
    "display(heads.shape)\n",
    "heads.head()"
   ]
  },
  {
   "cell_type": "code",
   "execution_count": 3,
   "metadata": {},
   "outputs": [
    {
     "data": {
      "text/plain": [
       "(23495976,)"
      ]
     },
     "metadata": {},
     "output_type": "display_data"
    },
    {
     "data": {
      "text/plain": [
       "joiner  decade  context\n",
       "a_m     1800    act_n       1\n",
       "                b_n        24\n",
       "                be_v       24\n",
       "                c_n        16\n",
       "                call_v      1\n",
       "Name: count, dtype: int64"
      ]
     },
     "execution_count": 3,
     "metadata": {},
     "output_type": "execute_result"
    }
   ],
   "source": [
    "modifiers=pd.read_csv(\"/data/dharp/compounding/datasets/modifiers_reduced.csv\",sep=\"\\t\")\n",
    "modifiers=modifiers.query('decade != 2000')\n",
    "modifiers.columns=['joiner','decade','context','count']\n",
    "modifiers['joiner']=modifiers['joiner'].str.replace(r'_n$', r'_m', regex=True)\n",
    "modifiers=modifiers.groupby(['joiner','decade','context'])['count'].sum()\n",
    "display(modifiers.shape)\n",
    "modifiers.head()"
   ]
  },
  {
   "cell_type": "code",
   "execution_count": 4,
   "metadata": {},
   "outputs": [
    {
     "name": "stderr",
     "output_type": "stream",
     "text": [
      "/data/dharp/packages/miniconda3/lib/python3.6/site-packages/numpy/lib/arraysetops.py:522: FutureWarning: elementwise comparison failed; returning scalar instead, but in the future will perform elementwise comparison\n",
      "  mask |= (ar1 == a)\n"
     ]
    },
    {
     "data": {
      "text/plain": [
       "(35677592,)"
      ]
     },
     "metadata": {},
     "output_type": "display_data"
    },
    {
     "data": {
      "text/plain": [
       "joiner         decade  context     \n",
       "a_n aaaaa_n    1960    a_n              9\n",
       "               1970    a_n             10\n",
       "               1980    a_n              9\n",
       "               1990    a_n             14\n",
       "a_n addison_n  1960    publishing_n    14\n",
       "Name: count, dtype: int64"
      ]
     },
     "execution_count": 4,
     "metadata": {},
     "output_type": "execute_result"
    }
   ],
   "source": [
    "compounds=pd.read_csv(\"/data/dharp/compounding/datasets/compounds_reduced.csv\",sep=\"\\t\",index_col=0,usecols=[0,3,4,5,6])\n",
    "compounds=compounds.query('decade != 2000')\n",
    "compounds.columns=['decade','context','count','joiner']\n",
    "compounds=compounds.groupby(['joiner','decade','context'])['count'].sum()\n",
    "display(compounds.shape)\n",
    "compounds.head()"
   ]
  },
  {
   "cell_type": "code",
   "execution_count": null,
   "metadata": {},
   "outputs": [],
   "source": [
    "df=pd.concat([heads,modifiers,compounds])"
   ]
  },
  {
   "cell_type": "code",
   "execution_count": null,
   "metadata": {},
   "outputs": [],
   "source": [
    "df=df.to_sparse()"
   ]
  },
  {
   "cell_type": "code",
   "execution_count": null,
   "metadata": {},
   "outputs": [],
   "source": [
    "df, rows, columns = df.to_coo(row_levels=['joiner','decade'],column_levels=['context'],sort_labels=False)"
   ]
  },
  {
   "cell_type": "code",
   "execution_count": null,
   "metadata": {},
   "outputs": [],
   "source": [
    "len(columns)"
   ]
  },
  {
   "cell_type": "code",
   "execution_count": null,
   "metadata": {},
   "outputs": [],
   "source": [
    "df_svd = TruncatedSVD(n_components=300, n_iter=10, random_state=1991)\n",
    "display(df_svd.fit(df).explained_variance_ratio_.sum())\n",
    "df_list=df_svd.fit(df).explained_variance_ratio_\n",
    "df_reduced = df_svd.fit_transform(df)\n",
    "df_reduced = Normalizer(copy=False).fit_transform(df_reduced)\n",
    "df_reduced=pd.DataFrame(df_reduced,index=rows)\n",
    "df_reduced.reset_index(inplace=True)\n",
    "df_reduced"
   ]
  },
  {
   "cell_type": "code",
   "execution_count": null,
   "metadata": {},
   "outputs": [],
   "source": [
    "df_reduced.index = pd.MultiIndex.from_tuples(df_reduced.index, names=['joiner', 'decade'])"
   ]
  },
  {
   "cell_type": "code",
   "execution_count": null,
   "metadata": {},
   "outputs": [],
   "source": [
    "pd.Series(constituents_list).cumsum().plot(figsize=[15,15])"
   ]
  },
  {
   "cell_type": "code",
   "execution_count": 12,
   "metadata": {},
   "outputs": [],
   "source": [
    "co_occ_reduced.reset_index(inplace=True)"
   ]
  },
  {
   "cell_type": "code",
   "execution_count": 15,
   "metadata": {},
   "outputs": [],
   "source": [
    "heads=co_occ_reduced.loc[co_occ_reduced.constituent.str.endswith(r'_h')]\n",
    "heads['constituent']=heads['constituent'].str.replace(r'_h$', r'_n', regex=True)\n",
    "heads.to_csv('/data/dharp/compounding/datasets/heads_context_decadal_svd.csv',index=False,header=False,sep='\\t')"
   ]
  },
  {
   "cell_type": "code",
   "execution_count": 16,
   "metadata": {},
   "outputs": [],
   "source": [
    "modifiers=co_occ_reduced.loc[co_occ_reduced.constituent.str.endswith(r'_m')]\n",
    "modifiers['constituent']=modifiers['constituent'].str.replace(r'_m$', r'_n', regex=True)\n",
    "modifiers.to_csv('/data/dharp/compounding/datasets/modifiers_context_decadal_svd.csv',index=False,header=False,sep='\\t')"
   ]
  },
  {
   "cell_type": "code",
   "execution_count": null,
   "metadata": {},
   "outputs": [],
   "source": []
  }
 ],
 "metadata": {
  "kernelspec": {
   "display_name": "Python 3",
   "language": "python",
   "name": "python3"
  },
  "language_info": {
   "codemirror_mode": {
    "name": "ipython",
    "version": 3
   },
   "file_extension": ".py",
   "mimetype": "text/x-python",
   "name": "python",
   "nbconvert_exporter": "python",
   "pygments_lexer": "ipython3",
   "version": "3.6.8"
  }
 },
 "nbformat": 4,
 "nbformat_minor": 2
}
